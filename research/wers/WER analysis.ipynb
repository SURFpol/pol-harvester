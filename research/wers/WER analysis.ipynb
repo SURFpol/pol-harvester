{
 "cells": [
  {
   "cell_type": "code",
   "execution_count": null,
   "metadata": {
    "scrolled": true
   },
   "outputs": [
    {
     "name": "stdout",
     "output_type": "stream",
     "text": [
      "[\"/Users/jelmer/.m2/repository/com/cognitect/transit-java/0.8.337/transit-java-0.8.337.jar\" \"/Users/jelmer/.m2/repository/org/bouncycastle/bcprov-jdk15on/1.52/bcprov-jdk15on-1.52.jar\" \"/Users/jelmer/.m2/repository/org/clojure/data.json/0.2.6/data.json-0.2.6.jar\" \"/Users/jelmer/.m2/repository/org/clojure/clojure/1.10.0/clojure-1.10.0.jar\" \"/Users/jelmer/.m2/repository/net/cgrand/sjacket/0.1.1/sjacket-0.1.1.jar\" \"/Users/jelmer/.m2/repository/joda-time/joda-time/2.9.9/joda-time-2.9.9.jar\" \"/Users/jelmer/.m2/repository/commons-codec/commons-codec/1.12/commons-codec-1.12.jar\" \"/Users/jelmer/.m2/repository/org/clojure/tools.analyzer/0.6.9/tools.analyzer-0.6.9.jar\" \"/Users/jelmer/.m2/repository/org/codehaus/plexus/plexus-component-annotations/1.5.5/plexus-component-annotations-1.5.5.jar\" \"/Users/jelmer/.m2/repository/ring/ring-devel/1.7.1/ring-devel-1.7.1.jar\" \"/Users/jelmer/.m2/repository/com/google/errorprone/error_prone_annotations/2.1.3/error_prone_annotations-2.1.3.jar\" \"/Users/jelmer/.m2/repository/org/apache/commons/commons-lang3/3.8.1/commons-lang3-3.8.1.jar\" \"/Users/jelmer/.m2/repository/org/clojure/tools.logging/0.4.1/tools.logging-0.4.1.jar\" \"/Users/jelmer/.m2/repository/org/clojure/core.specs.alpha/0.2.44/core.specs.alpha-0.2.44.jar\" \"/Users/jelmer/.m2/repository/io/netty/netty-common/4.1.25.Final/netty-common-4.1.25.Final.jar\" \"/Users/jelmer/.m2/repository/org/sonatype/aether/aether-util/1.13.1/aether-util-1.13.1.jar\" \"/Users/jelmer/.m2/repository/org/zeromq/jeromq/0.3.4/jeromq-0.3.4.jar\" \"/Users/jelmer/.m2/repository/org/clojure/spec.alpha/0.2.176/spec.alpha-0.2.176.jar\" \"/Users/jelmer/.m2/repository/ring-cljsjs/ring-cljsjs/0.1.0/ring-cljsjs-0.1.0.jar\" \"/Users/jelmer/.m2/repository/com/cemerick/url/0.1.1/url-0.1.1.jar\" \"/Users/jelmer/.m2/repository/pandect/pandect/0.5.4/pandect-0.5.4.jar\" \"/Users/jelmer/.m2/repository/compojure/compojure/1.6.1/compojure-1.6.1.jar\" \"/Users/jelmer/.m2/repository/commons-fileupload/commons-fileupload/1.3.3/commons-fileupload-1.3.3.jar\" \"/Users/jelmer/.m2/repository/ring/ring-ssl/0.3.0/ring-ssl-0.3.0.jar\" \"/Users/jelmer/.m2/repository/org/codehaus/mojo/animal-sniffer-annotations/1.14/animal-sniffer-annotations-1.14.jar\" \"/Users/jelmer/.m2/repository/org/eclipse/jetty/jetty-http/9.4.12.v20180830/jetty-http-9.4.12.v20180830.jar\" \"/Users/jelmer/.m2/repository/org/eclipse/jetty/jetty-util/9.4.12.v20180830/jetty-util-9.4.12.v20180830.jar\" \"/Users/jelmer/.m2/repository/com/taoensso/encore/2.96.0/encore-2.96.0.jar\" \"/Users/jelmer/.m2/repository/org/sonatype/sisu/sisu-inject-bean/2.2.3/sisu-inject-bean-2.2.3.jar\" \"/Users/jelmer/.m2/repository/markdown-to-hiccup/markdown-to-hiccup/0.6.2/markdown-to-hiccup-0.6.2.jar\" \"/Users/jelmer/.m2/repository/org/apache/httpcomponents/httpasyncclient/4.1.4/httpasyncclient-4.1.4.jar\" \"/Users/jelmer/.m2/repository/org/clojure/tools.analyzer.jvm/0.7.2/tools.analyzer.jvm-0.7.2.jar\" \"/Users/jelmer/.m2/repository/io/netty/netty-handler-proxy/4.1.25.Final/netty-handler-proxy-4.1.25.Final.jar\" \"/Users/jelmer/.m2/repository/manifold/manifold/0.1.8/manifold-0.1.8.jar\" \"/Users/jelmer/.m2/repository/net/incongru/watchservice/barbary-watchservice/1.0/barbary-watchservice-1.0.jar\" \"/Users/jelmer/.m2/repository/org/apache/maven/wagon/wagon-provider-api/2.2/wagon-provider-api-2.2.jar\" \"/Users/jelmer/.m2/repository/io/netty/netty-codec/4.1.25.Final/netty-codec-4.1.25.Final.jar\" \"/Users/jelmer/.m2/repository/cljsjs/react-dom/16.3.2-0/react-dom-16.3.2-0.jar\" \"/Users/jelmer/.m2/repository/beckon/beckon/0.1.1/beckon-0.1.1.jar\" \"/Users/jelmer/.m2/repository/org/clojure/tools.macro/0.1.5/tools.macro-0.1.5.jar\" \"/Users/jelmer/.m2/repository/org/zeromq/cljzmq/0.1.4/cljzmq-0.1.4.jar\" \"/Users/jelmer/.m2/repository/com/fasterxml/jackson/dataformat/jackson-dataformat-cbor/2.9.6/jackson-dataformat-cbor-2.9.6.jar\" \"/Users/jelmer/.m2/repository/org/flatland/useful/0.11.6/useful-0.11.6.jar\" \"/Users/jelmer/.m2/repository/net/cgrand/parsley/0.9.3/parsley-0.9.3.jar\" \"/Users/jelmer/.m2/repository/com/googlecode/json-simple/json-simple/1.1.1/json-simple-1.1.1.jar\" \"/Users/jelmer/.m2/repository/com/atlassian/commonmark/commonmark/0.8.0/commonmark-0.8.0.jar\" \"/Users/jelmer/.m2/repository/ring/ring-defaults/0.3.2/ring-defaults-0.3.2.jar\" \"/Users/jelmer/.m2/repository/com/clojure-goes-fast/lazy-require/0.1.1/lazy-require-0.1.1.jar\" \"/Users/jelmer/.m2/repository/com/cognitect/transit-cljs/0.8.256/transit-cljs-0.8.256.jar\" \"/Users/jelmer/.m2/repository/org/clojars/didiercrunch/clojupyter/0.1.5/clojupyter-0.1.5.jar\" \"/Users/jelmer/.m2/repository/org/clojure/google-closure-library/0.0-20170809-b9c14c6b/google-closure-library-0.0-20170809-b9c14c6b.jar\" \"/Users/jelmer/.m2/repository/org/apache/maven/maven-model-builder/3.0.4/maven-model-builder-3.0.4.jar\" \"/Users/jelmer/.m2/repository/io/aviso/pretty/0.1.33/pretty-0.1.33.jar\" \"/Users/jelmer/.m2/repository/io/netty/netty-codec-socks/4.1.25.Final/netty-codec-socks-4.1.25.Final.jar\" \"/Users/jelmer/.m2/repository/org/clojure/clojurescript/1.10.439/clojurescript-1.10.439.jar\" \"/Users/jelmer/.m2/repository/org/codehaus/plexus/plexus-utils/3.0/plexus-utils-3.0.jar\" \"/Users/jelmer/.m2/repository/io/netty/netty-buffer/4.1.25.Final/netty-buffer-4.1.25.Final.jar\" \"/Users/jelmer/.m2/repository/slingshot/slingshot/0.12.2/slingshot-0.12.2.jar\" \"/Users/jelmer/.m2/repository/org/apache/httpcomponents/httpcore-nio/4.4.10/httpcore-nio-4.4.10.jar\" \"/Users/jelmer/.m2/repository/ring/ring-jetty-adapter/1.7.1/ring-jetty-adapter-1.7.1.jar\" \"/Users/jelmer/.m2/repository/io/netty/netty-handler/4.1.25.Final/netty-handler-4.1.25.Final.jar\" \"/Users/jelmer/.m2/repository/org/flatland/ordered/1.5.7/ordered-1.5.7.jar\" \"/Users/jelmer/.m2/repository/commons-io/commons-io/2.6/commons-io-2.6.jar\" \"/Users/jelmer/.m2/repository/org/clojure/tools.namespace/0.2.11/tools.namespace-0.2.11.jar\" \"/Users/jelmer/.m2/repository/com/google/jsinterop/jsinterop-annotations/1.0.0/jsinterop-annotations-1.0.0.jar\" \"/Users/jelmer/.m2/repository/com/fasterxml/jackson/core/jackson-core/2.9.6/jackson-core-2.9.6.jar\" \"/Users/jelmer/.m2/repository/org/sonatype/sisu/sisu-inject-plexus/2.2.3/sisu-inject-plexus-2.2.3.jar\" \"/Users/jelmer/.m2/repository/markdown-clj/markdown-clj/1.10.0/markdown-clj-1.10.0.jar\" \"/Users/jelmer/.m2/repository/clj-time/clj-time/0.14.3/clj-time-0.14.3.jar\" \"/Users/jelmer/.m2/repository/org/yaml/snakeyaml/1.24/snakeyaml-1.24.jar\" \"/Users/jelmer/.m2/repository/clj-http/clj-http/3.9.1/clj-http-3.9.1.jar\" \"/Users/jelmer/.m2/repository/aleph/aleph/0.4.6/aleph-0.4.6.jar\" \"/Users/jelmer/.m2/repository/cljsjs/react/16.3.2-0/react-16.3.2-0.jar\" \"/Users/jelmer/.m2/repository/org/apache/httpcomponents/httpcore/4.4.11/httpcore-4.4.11.jar\" \"/Users/jelmer/.m2/repository/primitive-math/primitive-math/0.1.6/primitive-math-0.1.6.jar\" \"/Users/jelmer/.m2/repository/org/apache/httpcomponents/httpclient-cache/4.5.8/httpclient-cache-4.5.8.jar\" \"/Users/jelmer/.m2/repository/instaparse/instaparse/1.4.8/instaparse-1.4.8.jar\" \"/Users/jelmer/.m2/repository/org/apache/maven/maven-aether-provider/3.0.4/maven-aether-provider-3.0.4.jar\" \"/Users/jelmer/.m2/repository/com/cognitect/transit-js/0.8.846/transit-js-0.8.846.jar\" \"/Users/jelmer/.m2/repository/clj-tuple/clj-tuple/0.2.2/clj-tuple-0.2.2.jar\" \"/Users/jelmer/.m2/repository/org/mozilla/rhino/1.7R5/rhino-1.7R5.jar\" \"/Users/jelmer/.m2/repository/com/taoensso/truss/1.5.0/truss-1.5.0.jar\" \"/Users/jelmer/.m2/repository/org/sonatype/aether/aether-impl/1.13.1/aether-impl-1.13.1.jar\" \"/Users/jelmer/.m2/repository/ring/ring-headers/0.3.0/ring-headers-0.3.0.jar\" \"/Users/jelmer/.m2/repository/org/clojure/google-closure-library-third-party/0.0-20170809-b9c14c6b/google-closure-library-third-party-0.0-20170809-b9c14c6b.jar\" \"/Users/jelmer/.m2/repository/cljsjs/vega/5.4.0-0/vega-5.4.0-0.jar\" \"/Users/jelmer/.m2/repository/hiccup/hiccup/2.0.0-alpha2/hiccup-2.0.0-alpha2.jar\" \"/Users/jelmer/.m2/repository/io/aleph/dirigiste/0.1.5/dirigiste-0.1.5.jar\" \"/Users/jelmer/.m2/repository/byte-streams/byte-streams/0.2.4/byte-streams-0.2.4.jar\" \"/Users/jelmer/.m2/repository/riddley/riddley/0.1.14/riddley-0.1.14.jar\" \"/Users/jelmer/.m2/repository/com/cemerick/clojurescript.test/0.0.4/clojurescript.test-0.0.4.jar\" \"/Users/jelmer/.m2/repository/org/sonatype/aether/aether-connector-wagon/1.13.1/aether-connector-wagon-1.13.1.jar\" \"/Users/jelmer/.m2/repository/commonmark-hiccup/commonmark-hiccup/0.1.0/commonmark-hiccup-0.1.0.jar\" \"/Users/jelmer/.m2/repository/com/google/javascript/closure-compiler-externs/v20180805/closure-compiler-externs-v20180805.jar\" \"/Users/jelmer/.m2/repository/org/javassist/javassist/3.18.1-GA/javassist-3.18.1-GA.jar\" \"/Users/jelmer/.m2/repository/org/clojure/java.classpath/0.2.3/java.classpath-0.2.3.jar\" \"/Users/jelmer/.m2/repository/com/taoensso/sente/1.13.1/sente-1.13.1.jar\" \"/Users/jelmer/.m2/repository/ns-tracker/ns-tracker/0.3.1/ns-tracker-0.3.1.jar\" \"/Users/jelmer/.m2/repository/clout/clout/2.2.1/clout-2.2.1.jar\" \"/Users/jelmer/.m2/repository/org/clojure/tools.nrepl/0.2.13/tools.nrepl-0.2.13.jar\" \"/Users/jelmer/.m2/repository/commons-logging/commons-logging/1.2/commons-logging-1.2.jar\" \"/Users/jelmer/.m2/repository/environ/environ/1.1.0/environ-1.1.0.jar\" \"/Users/jelmer/.m2/repository/com/google/guava/guava/25.1-jre/guava-25.1-jre.jar\" \"/Users/jelmer/.m2/repository/viebel/codox-klipse-theme/0.0.1/codox-klipse-theme-0.0.1.jar\" \"/Users/jelmer/.m2/repository/org/sonatype/aether/aether-spi/1.13.1/aether-spi-1.13.1.jar\" \"/Users/jelmer/.m2/repository/reagent/reagent/0.8.1/reagent-0.8.1.jar\" \"/Users/jelmer/.m2/repository/org/msgpack/msgpack/0.6.12/msgpack-0.6.12.jar\" \"/Users/jelmer/.m2/repository/com/google/j2objc/j2objc-annotations/1.1/j2objc-annotations-1.1.jar\" \"/Users/jelmer/.m2/repository/com/taoensso/timbre/4.10.0/timbre-4.10.0.jar\" \"/Users/jelmer/.m2/repository/com/cognitect/transit-clj/0.8.313/transit-clj-0.8.313.jar\" \"/Users/jelmer/.m2/repository/org/codehaus/plexus/plexus-classworlds/2.4/plexus-classworlds-2.4.jar\" \"/Users/jelmer/.m2/repository/org/clojure/java.jdbc/0.3.7/java.jdbc-0.3.7.jar\" \"/Users/jelmer/.m2/repository/org/apache/maven/wagon/wagon-http/2.2/wagon-http-2.2.jar\" \"/Users/jelmer/.m2/repository/quoin/quoin/0.1.2/quoin-0.1.2.jar\" \"/Users/jelmer/.m2/repository/io/netty/netty-transport/4.1.25.Final/netty-transport-4.1.25.Final.jar\" \"/Users/jelmer/.m2/repository/args4j/args4j/2.0.26/args4j-2.0.26.jar\" \"/Users/jelmer/.m2/repository/net/cgrand/regex/1.1.0/regex-1.1.0.jar\" \"/Users/jelmer/.m2/repository/org/apache/maven/wagon/wagon-http-shared4/2.2/wagon-http-shared4-2.2.jar\" \"/Users/jelmer/.m2/repository/cljsjs/react-dom-server/16.3.2-0/react-dom-server-16.3.2-0.jar\" \"/Users/jelmer/.m2/repository/crypto-random/crypto-random/1.2.0/crypto-random-1.2.0.jar\" \"/Users/jelmer/.m2/repository/io/netty/netty-transport-native-unix-common/4.1.25.Final/netty-transport-native-unix-common-4.1.25.Final.jar\" \"/Users/jelmer/.m2/repository/cider/cider-nrepl/0.15.1/cider-nrepl-0.15.1.jar\" \"/Users/jelmer/.m2/repository/io/netty/netty-codec-dns/4.1.25.Final/netty-codec-dns-4.1.25.Final.jar\" \"/Users/jelmer/.m2/repository/clj-commons/clj-yaml/0.7.0/clj-yaml-0.7.0.jar\" \"/Users/jelmer/.m2/repository/com/cemerick/pomegranate/0.3.1/pomegranate-0.3.1.jar\" \"/Users/jelmer/.m2/repository/io/netty/netty-codec-http/4.1.25.Final/netty-codec-http-4.1.25.Final.jar\" \"/Users/jelmer/.m2/repository/ring/ring-codec/1.1.1/ring-codec-1.1.1.jar\" \"/Users/jelmer/.m2/repository/org/codehaus/plexus/plexus-interpolation/1.14/plexus-interpolation-1.14.jar\" \"/Users/jelmer/.m2/repository/org/apache/httpcomponents/httpclient/4.5.8/httpclient-4.5.8.jar\" \"/Users/jelmer/.m2/repository/ring/ring-anti-forgery/1.3.0/ring-anti-forgery-1.3.0.jar\" \"/Users/jelmer/.m2/repository/crypto-equality/crypto-equality/1.0.0/crypto-equality-1.0.0.jar\" \"/Users/jelmer/.m2/repository/org/checkerframework/checker-qual/2.0.0/checker-qual-2.0.0.jar\" \"/Users/jelmer/.m2/repository/hickory/hickory/0.7.1/hickory-0.7.1.jar\" \"/Users/jelmer/.m2/repository/net/java/dev/jna/jna/3.2.2/jna-3.2.2.jar\" \"/Users/jelmer/.m2/repository/cheshire/cheshire/5.8.1/cheshire-5.8.1.jar\" \"/Users/jelmer/.m2/repository/tigris/tigris/0.1.1/tigris-0.1.1.jar\" \"/Users/jelmer/.m2/repository/org/eclipse/jetty/jetty-io/9.4.12.v20180830/jetty-io-9.4.12.v20180830.jar\" \"/Users/jelmer/.m2/repository/org/clojure/tools.reader/1.3.2/tools.reader-1.3.2.jar\" \"/Users/jelmer/.m2/repository/org/tcrawley/dynapath/0.2.5/dynapath-0.2.5.jar\" \"/Users/jelmer/.m2/repository/org/jsoup/jsoup/1.9.2/jsoup-1.9.2.jar\" \"/Users/jelmer/.m2/repository/clj-http/clj-http/3.10.0/clj-http-3.10.0.jar\" \"/Users/jelmer/.m2/repository/javax/servlet/javax.servlet-api/3.1.0/javax.servlet-api-3.1.0.jar\" \"/Users/jelmer/.m2/repository/potemkin/potemkin/0.4.5/potemkin-0.4.5.jar\" \"/Users/jelmer/.m2/repository/cljsjs/vega-lite/3.4.0-0/vega-lite-3.4.0-0.jar\" \"/Users/jelmer/.m2/repository/io/netty/netty-resolver/4.1.25.Final/netty-resolver-4.1.25.Final.jar\" \"/Users/jelmer/.m2/repository/irresponsible/tentacles/0.6.3/tentacles-0.6.3.jar\" \"/Users/jelmer/.m2/repository/io/netty/netty-transport-native-epoll/4.1.25.Final/netty-transport-native-epoll-4.1.25.Final.jar\" \"/Users/jelmer/.m2/repository/org/xerial/sqlite-jdbc/3.7.2/sqlite-jdbc-3.7.2.jar\" \"/Users/jelmer/.m2/repository/clj-stacktrace/clj-stacktrace/0.2.8/clj-stacktrace-0.2.8.jar\" \"/Users/jelmer/.m2/repository/org/apache/maven/maven-model/3.0.4/maven-model-3.0.4.jar\" \"/Users/jelmer/.m2/repository/com/google/javascript/closure-compiler-unshaded/v20180805/closure-compiler-unshaded-v20180805.jar\" \"/Users/jelmer/.m2/repository/io/netty/netty-resolver-dns/4.1.25.Final/netty-resolver-dns-4.1.25.Final.jar\" \"/Users/jelmer/.m2/repository/org/sonatype/aether/aether-api/1.13.1/aether-api-1.13.1.jar\" \"/Users/jelmer/.m2/repository/io/forward/yaml/1.0.9/yaml-1.0.9.jar\" \"/Users/jelmer/.m2/repository/org/sonatype/sisu/sisu-guice/3.0.3/sisu-guice-3.0.3-no_aop.jar\" \"/Users/jelmer/.m2/repository/com/google/protobuf/protobuf-java/3.0.2/protobuf-java-3.0.2.jar\" \"/Users/jelmer/.m2/repository/org/sonatype/aether/aether-connector-file/1.13.1/aether-connector-file-1.13.1.jar\" \"/Users/jelmer/.m2/repository/ring/ring-servlet/1.7.1/ring-servlet-1.7.1.jar\" \"/Users/jelmer/.m2/repository/org/clojure/core.memoize/0.5.9/core.memoize-0.5.9.jar\" \"/Users/jelmer/.m2/repository/metasoarous/oz/1.6.0-alpha5/oz-1.6.0-alpha5.jar\" \"/Users/jelmer/.m2/repository/hawk/hawk/0.2.11/hawk-0.2.11.jar\" \"/Users/jelmer/.m2/repository/org/apache/maven/maven-repository-metadata/3.0.4/maven-repository-metadata-3.0.4.jar\" \"/Users/jelmer/.m2/repository/ring/ring/1.7.1/ring-1.7.1.jar\" \"/Users/jelmer/.m2/repository/org/clojure/data.priority-map/0.0.7/data.priority-map-0.0.7.jar\" \"/Users/jelmer/.m2/repository/bk/ring-gzip/0.3.0/ring-gzip-0.3.0.jar\" \"/Users/jelmer/.m2/repository/cljsjs/create-react-class/15.6.3-0/create-react-class-15.6.3-0.jar\" \"/Users/jelmer/.m2/repository/cljsjs/vega-tooltip/0.18.1-0/vega-tooltip-0.18.1-0.jar\" \"/Users/jelmer/.m2/repository/org/eclipse/jetty/jetty-server/9.4.12.v20180830/jetty-server-9.4.12.v20180830.jar\" \"/Users/jelmer/.m2/repository/org/apache/httpcomponents/httpmime/4.5.8/httpmime-4.5.8.jar\" \"/Users/jelmer/.m2/repository/com/google/code/findbugs/jsr305/3.0.2/jsr305-3.0.2.jar\" \"/Users/jelmer/.m2/repository/ring/ring-core/1.7.1/ring-core-1.7.1.jar\" \"/Users/jelmer/.m2/repository/org/clojure/core.cache/0.6.5/core.cache-0.6.5.jar\" \"/Users/jelmer/.m2/repository/org/ow2/asm/asm-all/4.2/asm-all-4.2.jar\" \"/Users/jelmer/.m2/repository/medley/medley/1.0.0/medley-1.0.0.jar\" \"/Users/jelmer/.m2/repository/org/clojure/core.async/0.4.490/core.async-0.4.490.jar\" \"/Users/jelmer/.m2/repository/com/fasterxml/jackson/dataformat/jackson-dataformat-smile/2.9.6/jackson-dataformat-smile-2.9.6.jar\" \"/Users/jelmer/.m2/repository/pathetic/pathetic/0.5.0/pathetic-0.5.0.jar\" \"/Users/jelmer/.m2/repository/org/clojure/data.codec/0.1.1/data.codec-0.1.1.jar\" \"/Users/jelmer/.m2/repository/javax/xml/bind/jaxb-api/2.3.0/jaxb-api-2.3.0.jar\" \"/Users/jelmer/.m2/repository/cljsjs/vega-embed/4.0.0-0/vega-embed-4.0.0-0.jar\" \"/Users/jelmer/.m2/repository/com/google/code/gson/gson/2.7/gson-2.7.jar\"] added to the classpath!"
     ]
    }
   ],
   "source": [
    "/cp {metasoarous/oz {:mvn/version \"1.6.0-alpha5\"}\n",
    "     clj-http {:mvn/version \"3.10.0\"}}"
   ]
  },
  {
   "cell_type": "code",
   "execution_count": 14,
   "metadata": {},
   "outputs": [
    {
     "data": {
      "application/octet-stream": null,
      "text/iclojure-html": [
       "<ul><li class='misc'>nil</ul>"
      ],
      "text/plain": [
       "nil\n"
      ]
     },
     "execution_count": 14,
     "metadata": {},
     "output_type": "execute_result"
    }
   ],
   "source": [
    "(require '[oz.notebook.iclojure :as vega])"
   ]
  },
  {
   "cell_type": "code",
   "execution_count": 15,
   "metadata": {},
   "outputs": [
    {
     "data": {
      "text/iclojure-html": [
       "<ul><li class=browsable><ul><li class=var>#'user/play-data<li class=browser><li class=elision data-expr='(unrepl.repl$p8QhJwTpu2S19yqqZbyXWLOYcI8/fetch :G__18312)'>…</ul></ul>"
      ],
      "text/plain": [
       "#unrepl/browsable \u001b[2m[\u001b[22m#'user/play-data \u001b[4m/1\u001b[m\u001b[2m]\u001b[22m\n"
      ]
     },
     "execution_count": 15,
     "metadata": {},
     "output_type": "execute_result"
    }
   ],
   "source": [
    "(defn play-data [& names]\n",
    "  (for [n names\n",
    "        i (range 20)]\n",
    "    {:time i :item n :quantity (+ (Math/pow (* i (count n)) 0.8) (rand-int (count n)))}))"
   ]
  },
  {
   "cell_type": "code",
   "execution_count": 20,
   "metadata": {},
   "outputs": [
    {
     "data": {
      "application/vnd.vegalite.v2+json": {
       "data": {
        "values": [
         {
          "item": "monkey",
          "quantity": 0,
          "time": 0
         },
         {
          "item": "monkey",
          "quantity": 8.192962712629477,
          "time": 1
         },
         {
          "item": "monkey",
          "quantity": 10.30037210271847,
          "time": 2
         },
         {
          "item": "monkey",
          "quantity": 13.097596309015797,
          "time": 3
         },
         {
          "item": "monkey",
          "quantity": 17.71068609258575,
          "time": 4
         },
         {
          "item": "monkey",
          "quantity": 18.194870523363548,
          "time": 5
         },
         {
          "item": "monkey",
          "quantity": 20.580936309501134,
          "time": 6
         },
         {
          "item": "monkey",
          "quantity": 23.888381054913122,
          "time": 7
         },
         {
          "item": "monkey",
          "quantity": 26.13058987556147,
          "time": 8
         },
         {
          "item": "monkey",
          "quantity": 26.317280693371046,
          "time": 9
         },
         {
          "item": "monkey",
          "quantity": 28.45580618665162,
          "time": 10
         },
         {
          "item": "monkey",
          "quantity": 31.55190884598056,
          "time": 11
         },
         {
          "item": "monkey",
          "quantity": 30.610188015018984,
          "time": 12
         },
         {
          "item": "monkey",
          "quantity": 36.63440373999379,
          "time": 13
         },
         {
          "item": "monkey",
          "quantity": 34.62768266080517,
          "time": 14
         },
         {
          "item": "monkey",
          "quantity": 39.59266228400805,
          "time": 15
         },
         {
          "item": "monkey",
          "quantity": 43.53159496449108,
          "time": 16
         },
         {
          "item": "monkey",
          "quantity": 42.44642466614132,
          "time": 17
         },
         {
          "item": "monkey",
          "quantity": 42.338844810888254,
          "time": 18
         },
         {
          "item": "monkey",
          "quantity": 46.21034266761982,
          "time": 19
         },
         {
          "item": "slipper",
          "quantity": 5,
          "time": 0
         },
         {
          "item": "slipper",
          "quantity": 7.743276393803367,
          "time": 1
         },
         {
          "item": "slipper",
          "quantity": 9.258523872989459,
          "time": 2
         },
         {
          "item": "slipper",
          "quantity": 15.42287530066645,
          "time": 3
         },
         {
          "item": "slipper",
          "quantity": 20.378925219250924,
          "time": 4
         },
         {
          "item": "slipper",
          "quantity": 20.189151347155786,
          "time": 5
         },
         {
          "item": "slipper",
          "quantity": 19.888381054913122,
          "time": 6
         },
         {
          "item": "slipper",
          "quantity": 26.498670948012276,
          "time": 7
         },
         {
          "item": "slipper",
          "quantity": 26.03516289842348,
          "time": 8
         },
         {
          "item": "slipper",
          "quantity": 33.50885027594805,
          "time": 9
         },
         {
          "item": "slipper",
          "quantity": 31.928050775697603,
          "time": 10
         },
         {
          "item": "slipper",
          "quantity": 35.299260572778856,
          "time": 11
         },
         {
          "item": "slipper",
          "quantity": 36.62768266080517,
          "time": 12
         },
         {
          "item": "slipper",
          "quantity": 39.9175705807045,
          "time": 13
         },
         {
          "item": "slipper",
          "quantity": 39.17246133441246,
          "time": 14
         },
         {
          "item": "slipper",
          "quantity": 46.39533859324643,
          "time": 15
         },
         {
          "item": "slipper",
          "quantity": 44.58875032686557,
          "time": 16
         },
         {
          "item": "slipper",
          "quantity": 50.75489563854074,
          "time": 17
         },
         {
          "item": "slipper",
          "quantity": 51.89569020671064,
          "time": 18
         },
         {
          "item": "slipper",
          "quantity": 50.012816499808885,
          "time": 19
         },
         {
          "item": "broom",
          "quantity": 4,
          "time": 0
         },
         {
          "item": "broom",
          "quantity": 4.623898318388478,
          "time": 1
         },
         {
          "item": "broom",
          "quantity": 8.309573444801934,
          "time": 2
         },
         {
          "item": "broom",
          "quantity": 9.727161387290321,
          "time": 3
         },
         {
          "item": "broom",
          "quantity": 10.98560543306118,
          "time": 4
         },
         {
          "item": "broom",
          "quantity": 14.132639022018838,
          "time": 5
         },
         {
          "item": "broom",
          "quantity": 18.194870523363548,
          "time": 6
         },
         {
          "item": "broom",
          "quantity": 20.189151347155786,
          "time": 7
         },
         {
          "item": "broom",
          "quantity": 21.127049995800743,
          "time": 8
         },
         {
          "item": "broom",
          "quantity": 23.016965485301043,
          "time": 9
         },
         {
          "item": "broom",
          "quantity": 22.86525259636632,
          "time": 10
         },
         {
          "item": "broom",
          "quantity": 26.676874454922782,
          "time": 11
         },
         {
          "item": "broom",
          "quantity": 26.45580618665162,
          "time": 12
         },
         {
          "item": "broom",
          "quantity": 30.205297528345778,
          "time": 13
         },
         {
          "item": "broom",
          "quantity": 33.9280507756976,
          "time": 14
         },
         {
          "item": "broom",
          "quantity": 35.62634547570625,
          "time": 15
         },
         {
          "item": "broom",
          "quantity": 36.30212829607493,
          "time": 16
         },
         {
          "item": "broom",
          "quantity": 38.95707936800063,
          "time": 17
         },
         {
          "item": "broom",
          "quantity": 39.59266228400805,
          "time": 18
         },
         {
          "item": "broom",
          "quantity": 38.210162462449645,
          "time": 19
         }
        ]
       },
       "encoding": {
        "color": {
         "field": "item",
         "type": "nominal"
        },
        "x": {
         "field": "time"
        },
        "y": {
         "field": "quantity"
        }
       },
       "mark": "line"
      },
      "image/png": "[encoded data removed]",
      "text/iclojure-html": [
       "<ul><li class=taglit>#<ul><li class=symbol>unrepl/mime<li class=map>{<ul><li><ul><li class=keyword>:content-type<li class=space> <li class='string'>\"application/vnd.vegalite.v2+json\"<li class=trail>,</ul><li class=space> <li><ul><li class=keyword>:content<li class=space> <li class=map>{<ul><li><ul><li class=keyword>:data<li class=space> <li class=map>{<ul><li><ul><li class=keyword>:values<li class=space> <li class=seq>(<ul><li class=map>{<ul><li><ul><li class=keyword>:time<li class=space> <li class='misc'>0<li class=trail>,</ul><li class=space> <li><ul><li class=keyword>:item<li class=space> <li class='string'>\"monkey\"<li class=trail>,</ul><li class=space> <li><ul><li class=keyword>:quantity<li class=space> <li class='misc'>0.0</ul><li class=trail>}</ul><li class=space> <li class=map>{<ul><li><ul><li class=keyword>:time<li class=space> <li class='misc'>1<li class=trail>,</ul><li class=space> <li><ul><li class=keyword>:item<li class=space> <li class='string'>\"monkey\"<li class=trail>,</ul><li class=space> <li><ul><li class=keyword>:quantity<li class=space> <li class='misc'>8.192962712629477</ul><li class=trail>}</ul><li class=space> <li class=map>{<ul><li><ul><li class=keyword>:time<li class=space> <li class='misc'>2<li class=trail>,</ul><li class=space> <li><ul><li class=keyword>:item<li class=space> <li class='string'>\"monkey\"<li class=trail>,</ul><li class=space> <li><ul><li class=keyword>:quantity<li class=space> <li class='misc'>10.30037210271847</ul><li class=trail>}</ul><li class=space> <li class=map>{<ul><li><ul><li class=keyword>:time<li class=space> <li class='misc'>3<li class=trail>,</ul><li class=space> <li><ul><li class=keyword>:item<li class=space> <li class='string'>\"monkey\"<li class=trail>,</ul><li class=space> <li><ul><li class=keyword>:quantity<li class=space> <li class='misc'>13.097596309015797</ul><li class=trail>}</ul><li class=space> <li class=map>{<ul><li><ul><li class=keyword>:time<li class=space> <li class='misc'>4<li class=trail>,</ul><li class=space> <li><ul><li class=keyword>:item<li class=space> <li class='string'>\"monkey\"<li class=trail>,</ul><li class=space> <li><ul><li class=keyword>:quantity<li class=space> <li class='misc'>17.71068609258575</ul><li class=trail>}</ul><li class=space> <li class=map>{<ul><li><ul><li class=keyword>:time<li class=space> <li class='misc'>5<li class=trail>,</ul><li class=space> <li><ul><li class=keyword>:item<li class=space> <li class='string'>\"monkey\"<li class=trail>,</ul><li class=space> <li><ul><li class=keyword>:quantity<li class=space> <li class='misc'>18.194870523363548</ul><li class=trail>}</ul><li class=space> <li class=map>{<ul><li><ul><li class=keyword>:time<li class=space> <li class='misc'>6<li class=trail>,</ul><li class=space> <li><ul><li class=keyword>:item<li class=space> <li class='string'>\"monkey\"<li class=trail>,</ul><li class=space> <li><ul><li class=keyword>:quantity<li class=space> <li class='misc'>20.580936309501134</ul><li class=trail>}</ul><li class=space> <li class=map>{<ul><li><ul><li class=keyword>:time<li class=space> <li class='misc'>7<li class=trail>,</ul><li class=space> <li><ul><li class=keyword>:item<li class=space> <li class='string'>\"monkey\"<li class=trail>,</ul><li class=space> <li><ul><li class=keyword>:quantity<li class=space> <li class='misc'>23.888381054913122</ul><li class=trail>}</ul><li class=space> <li class=map>{<ul><li><ul><li class=keyword>:time<li class=space> <li class='misc'>8<li class=trail>,</ul><li class=space> <li><ul><li class=keyword>:item<li class=space> <li class='string'>\"monkey\"<li class=trail>,</ul><li class=space> <li><ul><li class=keyword>:quantity<li class=space> <li class='misc'>26.13058987556147</ul><li class=trail>}</ul><li class=space> <li class=map>{<ul><li><ul><li class=keyword>:time<li class=space> <li class='misc'>9<li class=trail>,</ul><li class=space> <li><ul><li class=keyword>:item<li class=space> <li class='string'>\"monkey\"<li class=trail>,</ul><li class=space> <li><ul><li class=keyword>:quantity<li class=space> <li class='misc'>26.317280693371046</ul><li class=trail>}</ul><li class=space> <li class=elision data-expr='(unrepl.repl$p8QhJwTpu2S19yqqZbyXWLOYcI8/fetch :G__18418)'>…<li class=trail>)</ul></ul><li class=trail>}</ul><li class=trail>,</ul><li class=space> <li class=elision data-expr='(unrepl.repl$p8QhJwTpu2S19yqqZbyXWLOYcI8/fetch :G__18419)'>…<li class=trail>}</ul></ul><li class=trail>}</ul></ul></ul>"
      ],
      "text/plain": [
       "#unrepl/mime\n",
       "  \u001b[2m{\u001b[22m\u001b[36m:content-type\u001b[m \"application/vnd.vegalite.v2+json\"\u001b[2m,\u001b[22m\n",
       "   \u001b[36m:content\u001b[m\n",
       "     \u001b[2m{\u001b[22m\u001b[36m:data\u001b[m \u001b[2m{\u001b[22m\u001b[36m:values\u001b[m\n",
       "               \u001b[2m(\u001b[22m\u001b[2m{\u001b[22m\u001b[36m:time\u001b[m 0\u001b[2m,\u001b[22m \u001b[36m:item\u001b[m \"monkey\"\u001b[2m,\u001b[22m \u001b[36m:quantity\u001b[m 0.0\u001b[2m}\u001b[22m\n",
       "                \u001b[2m{\u001b[22m\u001b[36m:time\u001b[m 1\u001b[2m,\u001b[22m \u001b[36m:item\u001b[m \"monkey\"\u001b[2m,\u001b[22m \u001b[36m:quantity\u001b[m 8.192962712629477\u001b[2m}\u001b[22m\n",
       "                \u001b[2m{\u001b[22m\u001b[36m:time\u001b[m 2\u001b[2m,\u001b[22m \u001b[36m:item\u001b[m \"monkey\"\u001b[2m,\u001b[22m \u001b[36m:quantity\u001b[m 10.30037210271847\u001b[2m}\u001b[22m\n",
       "                \u001b[2m{\u001b[22m\u001b[36m:time\u001b[m 3\u001b[2m,\u001b[22m \u001b[36m:item\u001b[m \"monkey\"\u001b[2m,\u001b[22m \u001b[36m:quantity\u001b[m 13.097596309015797\u001b[2m}\u001b[22m\n",
       "                \u001b[2m{\u001b[22m\u001b[36m:time\u001b[m 4\u001b[2m,\u001b[22m \u001b[36m:item\u001b[m \"monkey\"\u001b[2m,\u001b[22m \u001b[36m:quantity\u001b[m 17.71068609258575\u001b[2m}\u001b[22m\n",
       "                \u001b[2m{\u001b[22m\u001b[36m:time\u001b[m 5\u001b[2m,\u001b[22m \u001b[36m:item\u001b[m \"monkey\"\u001b[2m,\u001b[22m \u001b[36m:quantity\u001b[m 18.194870523363548\u001b[2m}\u001b[22m\n",
       "                \u001b[2m{\u001b[22m\u001b[36m:time\u001b[m 6\u001b[2m,\u001b[22m \u001b[36m:item\u001b[m \"monkey\"\u001b[2m,\u001b[22m \u001b[36m:quantity\u001b[m 20.580936309501134\u001b[2m}\u001b[22m\n",
       "                \u001b[2m{\u001b[22m\u001b[36m:time\u001b[m 7\u001b[2m,\u001b[22m \u001b[36m:item\u001b[m \"monkey\"\u001b[2m,\u001b[22m \u001b[36m:quantity\u001b[m 23.888381054913122\u001b[2m}\u001b[22m\n",
       "                \u001b[2m{\u001b[22m\u001b[36m:time\u001b[m 8\u001b[2m,\u001b[22m \u001b[36m:item\u001b[m \"monkey\"\u001b[2m,\u001b[22m \u001b[36m:quantity\u001b[m 26.13058987556147\u001b[2m}\u001b[22m\n",
       "                \u001b[2m{\u001b[22m\u001b[36m:time\u001b[m 9\u001b[2m,\u001b[22m \u001b[36m:item\u001b[m \"monkey\"\u001b[2m,\u001b[22m \u001b[36m:quantity\u001b[m 26.317280693371046\u001b[2m}\u001b[22m \u001b[4m/7\u001b[m\u001b[2m)\u001b[22m\u001b[2m}\u001b[22m\u001b[2m,\u001b[22m\n",
       "      \u001b[4m/8\u001b[m\u001b[2m}\u001b[22m\u001b[2m}\u001b[22m\n"
      ]
     },
     "execution_count": 20,
     "metadata": {},
     "output_type": "execute_result"
    }
   ],
   "source": [
    "(vega/view!\n",
    "  {:data {:values (play-data \"monkey\" \"slipper\" \"broom\")}\n",
    "   :encoding {:x {:field \"time\"}\n",
    "              :y {:field \"quantity\"}\n",
    "              :color {:field \"item\" :type \"nominal\"}}\n",
    "   :mark \"line\"})"
   ]
  },
  {
   "cell_type": "code",
   "execution_count": null,
   "metadata": {},
   "outputs": [],
   "source": []
  }
 ],
 "metadata": {
  "kernelspec": {
   "display_name": "IClojure",
   "language": "iclojure",
   "name": "iclojure"
  },
  "language_info": {
   "file_extension": ".clj",
   "mimetype": "text/x-clojure",
   "name": "clojure",
   "version": "1.10.0"
  }
 },
 "nbformat": 4,
 "nbformat_minor": 4
}
