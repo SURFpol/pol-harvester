{
 "cells": [
  {
   "cell_type": "code",
   "execution_count": 36,
   "metadata": {},
   "outputs": [
    {
     "data": {
      "application/octet-stream": null,
      "text/iclojure-html": [
       "<ul><li class='misc'>nil</ul>"
      ],
      "text/plain": [
       "nil\n"
      ]
     },
     "execution_count": 36,
     "metadata": {},
     "output_type": "execute_result"
    }
   ],
   "source": [
    "(require '[cheshire.core :as json]\n",
    "         '[clojure.java.io :as io]\n",
    "         '[clojure.set :refer [rename-keys]]\n",
    "         '[clojure.string :as str])"
   ]
  },
  {
   "cell_type": "code",
   "execution_count": 39,
   "metadata": {},
   "outputs": [
    {
     "data": {
      "text/iclojure-html": [
       "<ul><li class=browsable><ul><li class=var>#'user/data<li class=browser><li class=elision data-expr='(unrepl.repl$p8QhJwTpu2S19yqqZbyXWLOYcI8/fetch :G__2539)'>…</ul></ul>"
      ],
      "text/plain": [
       "#unrepl/browsable \u001b[2m[\u001b[22m#'user/data \u001b[4m/85\u001b[m\u001b[2m]\u001b[22m\n"
      ]
     },
     "execution_count": 39,
     "metadata": {},
     "output_type": "execute_result"
    }
   ],
   "source": [
    "(def data (-> \"resources/ranking.json\"\n",
    "              io/resource\n",
    "              (json/parse-stream)))"
   ]
  },
  {
   "cell_type": "code",
   "execution_count": 40,
   "metadata": {},
   "outputs": [
    {
     "data": {
      "text/iclojure-html": [
       "<ul><li class=browsable><ul><li class=var>#'user/keywordize-record<li class=browser><li class=elision data-expr='(unrepl.repl$p8QhJwTpu2S19yqqZbyXWLOYcI8/fetch :G__2550)'>…</ul></ul>"
      ],
      "text/plain": [
       "#unrepl/browsable \u001b[2m[\u001b[22m#'user/keywordize-record \u001b[4m/86\u001b[m\u001b[2m]\u001b[22m\n"
      ]
     },
     "execution_count": 40,
     "metadata": {},
     "output_type": "execute_result"
    }
   ],
   "source": [
    "(defn keywordize-record\n",
    "  [record]\n",
    "  (rename-keys record {\"freeze\" :freeze\n",
    "                       \"user\" :user\n",
    "                       \"queries\" :queries}))"
   ]
  },
  {
   "cell_type": "code",
   "execution_count": 41,
   "metadata": {},
   "outputs": [
    {
     "data": {
      "text/iclojure-html": [
       "<ul><li class=browsable><ul><li class=var>#'user/split-by-query<li class=browser><li class=elision data-expr='(unrepl.repl$p8QhJwTpu2S19yqqZbyXWLOYcI8/fetch :G__2575)'>…</ul></ul>"
      ],
      "text/plain": [
       "#unrepl/browsable \u001b[2m[\u001b[22m#'user/split-by-query \u001b[4m/87\u001b[m\u001b[2m]\u001b[22m\n"
      ]
     },
     "execution_count": 41,
     "metadata": {},
     "output_type": "execute_result"
    }
   ],
   "source": [
    "(defn split-by-query\n",
    "  [record]\n",
    "  (let [queries (->> record\n",
    "                     :queries\n",
    "                     vals\n",
    "                     (mapcat keys)\n",
    "                     (distinct))]\n",
    "    (for [query queries]\n",
    "      (assoc record :query query))))"
   ]
  },
  {
   "cell_type": "code",
   "execution_count": 42,
   "metadata": {},
   "outputs": [
    {
     "data": {
      "text/iclojure-html": [
       "<ul><li class=browsable><ul><li class=var>#'user/field-score<li class=browser><li class=elision data-expr='(unrepl.repl$p8QhJwTpu2S19yqqZbyXWLOYcI8/fetch :G__2589)'>…</ul></ul>"
      ],
      "text/plain": [
       "#unrepl/browsable \u001b[2m[\u001b[22m#'user/field-score \u001b[4m/88\u001b[m\u001b[2m]\u001b[22m\n"
      ]
     },
     "execution_count": 42,
     "metadata": {},
     "output_type": "execute_result"
    }
   ],
   "source": [
    "(defn field-score\n",
    "  [field]\n",
    "  (if (str/includes? field \"^\")\n",
    "    (let [[f score] (str/split field  #\"\\^\")]\n",
    "      [(keyword f) (Integer. score)])\n",
    "    [(keyword field) 1]))"
   ]
  },
  {
   "cell_type": "code",
   "execution_count": 43,
   "metadata": {},
   "outputs": [
    {
     "data": {
      "text/iclojure-html": [
       "<ul><li class=browsable><ul><li class=var>#'user/field-str-&gt;field-map<li class=browser><li class=elision data-expr='(unrepl.repl$p8QhJwTpu2S19yqqZbyXWLOYcI8/fetch :G__2600)'>…</ul></ul>"
      ],
      "text/plain": [
       "#unrepl/browsable \u001b[2m[\u001b[22m#'user/field-str->field-map \u001b[4m/89\u001b[m\u001b[2m]\u001b[22m\n"
      ]
     },
     "execution_count": 43,
     "metadata": {},
     "output_type": "execute_result"
    }
   ],
   "source": [
    "(defn field-str->field-map\n",
    "  [s]\n",
    "  (let [fields (str/split s #\"\\|\")]\n",
    "    (into {}\n",
    "      (map field-score fields))))"
   ]
  },
  {
   "cell_type": "code",
   "execution_count": 44,
   "metadata": {},
   "outputs": [
    {
     "data": {
      "text/iclojure-html": [
       "<ul><li class=browsable><ul><li class=var>#'user/split-by-fields<li class=browser><li class=elision data-expr='(unrepl.repl$p8QhJwTpu2S19yqqZbyXWLOYcI8/fetch :G__2633)'>…</ul></ul>"
      ],
      "text/plain": [
       "#unrepl/browsable \u001b[2m[\u001b[22m#'user/split-by-fields \u001b[4m/90\u001b[m\u001b[2m]\u001b[22m\n"
      ]
     },
     "execution_count": 44,
     "metadata": {},
     "output_type": "execute_result"
    }
   ],
   "source": [
    "(defn split-by-fields\n",
    "  [{:keys [queries query] :as record}]\n",
    "  (let [new-record (dissoc record :queries)]\n",
    "    (for [[field-str scores] queries]\n",
    "      (-> new-record\n",
    "          (assoc :fields (field-str->field-map field-str))\n",
    "          (assoc :dcg (get scores query))))))"
   ]
  },
  {
   "cell_type": "code",
   "execution_count": 45,
   "metadata": {},
   "outputs": [
    {
     "data": {
      "text/iclojure-html": [
       "<ul><li class=browsable><ul><li class=var>#'user/tidy-data<li class=browser><li class=elision data-expr='(unrepl.repl$p8QhJwTpu2S19yqqZbyXWLOYcI8/fetch :G__2643)'>…</ul></ul>"
      ],
      "text/plain": [
       "#unrepl/browsable \u001b[2m[\u001b[22m#'user/tidy-data \u001b[4m/91\u001b[m\u001b[2m]\u001b[22m\n"
      ]
     },
     "execution_count": 45,
     "metadata": {},
     "output_type": "execute_result"
    }
   ],
   "source": [
    "(def tidy-data\n",
    "  (->> data\n",
    "       keywordize-record\n",
    "       split-by-query\n",
    "       (mapcat split-by-fields)))"
   ]
  },
  {
   "cell_type": "code",
   "execution_count": 46,
   "metadata": {},
   "outputs": [
    {
     "data": {
      "text/iclojure-html": [
       "<ul><li class=browsable><ul><li class=var>#'user/flatten-record<li class=browser><li class=elision data-expr='(unrepl.repl$p8QhJwTpu2S19yqqZbyXWLOYcI8/fetch :G__2656)'>…</ul></ul>"
      ],
      "text/plain": [
       "#unrepl/browsable \u001b[2m[\u001b[22m#'user/flatten-record \u001b[4m/92\u001b[m\u001b[2m]\u001b[22m\n"
      ]
     },
     "execution_count": 46,
     "metadata": {},
     "output_type": "execute_result"
    }
   ],
   "source": [
    "(defn flatten-record\n",
    "  [{:keys [fields] :as m}]\n",
    "  (-> (apply merge m fields)\n",
    "      (dissoc :fields)))"
   ]
  },
  {
   "cell_type": "code",
   "execution_count": 47,
   "metadata": {},
   "outputs": [
    {
     "data": {
      "text/iclojure-html": [
       "<ul><li class=browsable><ul><li class=var>#'user/plot<li class=browser><li class=elision data-expr='(unrepl.repl$p8QhJwTpu2S19yqqZbyXWLOYcI8/fetch :G__2668)'>…</ul></ul>"
      ],
      "text/plain": [
       "#unrepl/browsable \u001b[2m[\u001b[22m#'user/plot \u001b[4m/93\u001b[m\u001b[2m]\u001b[22m\n"
      ]
     },
     "execution_count": 47,
     "metadata": {},
     "output_type": "execute_result"
    }
   ],
   "source": [
    "(def plot\n",
    "  (let [field-names (->> tidy-data\n",
    "                         (map :fields)\n",
    "                         (mapcat keys)\n",
    "                         distinct)\n",
    "        data (map flatten-record tidy-data)]\n",
    "\n",
    "    {:$schema \"https://vega.github.io/schema/vega/v5.json\"\n",
    "     :signals [{:name \"cellSize\" :value 20}\n",
    "               {:name \"valueWidth\" :value 200}]\n",
    "\n",
    "     :data [{:name \"rawData\"\n",
    "             :values data}\n",
    "\n",
    "            {:name \"aggrData\"\n",
    "             :source \"rawData\"\n",
    "             :transform [{:type :aggregate\n",
    "                          :groupby field-names\n",
    "                          :fields [:dcg :dcg]\n",
    "                          :ops [:mean :stdev]\n",
    "                          :as [:mean :stdev]}\n",
    "                         {:type :identifier\n",
    "                          :as :id}]}\n",
    "\n",
    "            {:name \"fieldNames\"\n",
    "             :values field-names}\n",
    "\n",
    "            {:name \"fieldData\"\n",
    "             :source \"aggrData\"\n",
    "             :transform [{:type :fold\n",
    "                          :fields field-names\n",
    "                          :as [:field :value]}]}]\n",
    "\n",
    "     :scales [{:name \"combinations\"\n",
    "               :type \"band\"\n",
    "               :domain {:data \"aggrData\"\n",
    "                        :field :id\n",
    "                        :sort {:field \"mean\"\n",
    "                               :op :mean\n",
    "                               :order :descending}}\n",
    "               :range {:step {:signal \"cellSize\"}}}]\n",
    "\n",
    "     :layout {:align {:row \"all\"\n",
    "                      :column \"each\"}\n",
    "              :padding {:row 0\n",
    "                        :column 10}}\n",
    "\n",
    "     :projections []\n",
    "\n",
    "     :axes []\n",
    "\n",
    "     :legends []\n",
    "\n",
    "     :marks [{:type :group\n",
    "              :name \"fields\"\n",
    "\n",
    "              :scales [{:name \"fields\"\n",
    "                        :type \"band\"\n",
    "                        :domain field-names\n",
    "                        :range {:step {:signal \"cellSize\"}}}\n",
    "\n",
    "                       {:name \"color\"\n",
    "                        :type \"linear\"\n",
    "                        :domain {:data \"fieldData\"\n",
    "                                 :field :value}\n",
    "                        :range {:scheme \"blues\"}}]\n",
    "\n",
    "              :marks [{:type :rect\n",
    "                       :from {:data \"fieldData\"}\n",
    "                       :encode {:update {:x {:scale \"fields\"\n",
    "                                             :field :field}\n",
    "                                         :y {:scale \"combinations\"\n",
    "                                             :field :id}\n",
    "                                         :width {:scale \"fields\"\n",
    "                                                 :band 1\n",
    "                                                 :offset -1}\n",
    "                                         :height {:scale \"combinations\"\n",
    "                                                  :band 1\n",
    "                                                  :offset -1}\n",
    "                                         :fill {:scale \"color\" :field :value}}}}\n",
    "\n",
    "                      {:type :text\n",
    "                       :name \"columns\"\n",
    "                       :from {:data \"fieldData\"}\n",
    "                       :encode {:update {:x {:scale \"fields\"\n",
    "                                             :field :field\n",
    "                                             :band 0.5}\n",
    "                                         :y {:offset -2}\n",
    "                                         :text {:field :field}\n",
    "                                         :font {:value \"sans-serif\"}\n",
    "                                         :fontSize {:value 10}\n",
    "                                         :angle {:value -90}\n",
    "                                         :align {:value :left}\n",
    "                                         :baseline {:value :middle}}}}]}\n",
    "\n",
    "             {:type :group\n",
    "              :name \"values\"\n",
    "              :encode {:enter {:width {:signal \"valueWidth\"}}}\n",
    "\n",
    "              :scales [{:name \"values\"\n",
    "                        :type :linear\n",
    "                        :domain [0 1]\n",
    "                        :range [0 {:signal \"valueWidth\"}]}]\n",
    "\n",
    "              :marks [{:type :symbol\n",
    "                       :from {:data \"aggrData\"}\n",
    "                       :encode {:enter {:fill {:value \"black\"}\n",
    "                                        :size {:value 40}}\n",
    "                                :update {:xc {:scale \"values\"\n",
    "                                              :field :mean}\n",
    "                                         :yc {:scale \"combinations\" :field :id :band 0.5}}}}\n",
    "\n",
    "                      {:type :rect\n",
    "                       :from {:data \"aggrData\"}\n",
    "                       :encode {:enter {:fill {:value \"black\"}\n",
    "                                        :height {:value 0.5}}\n",
    "                                :update {:y {:scale \"combinations\" :field :id :band 0.5}\n",
    "                                         :x {:scale \"values\" :signal \"datum.mean - datum.stdev\"}\n",
    "                                         :x2 {:scale \"values\" :signal \"datum.mean + datum.stdev\"}}}}]\n",
    "\n",
    "              :axes [{:scale \"values\"\n",
    "                      :orient \"bottom\"\n",
    "                      :offset {:signal \"length(data('aggrData')) * cellSize + 5\"}}]}]}))"
   ]
  },
  {
   "cell_type": "code",
   "execution_count": 48,
   "metadata": {},
   "outputs": [
    {
     "data": {
      "application/vnd.vega.v5+json": {
       "$schema": "https://vega.github.io/schema/vega/v5.json",
       "axes": [],
       "data": [
        {
         "name": "rawData",
         "values": []
        },
        {
         "name": "aggrData",
         "source": "rawData",
         "transform": [
          {
           "as": [
            "mean",
            "stdev"
           ],
           "fields": [
            "dcg",
            "dcg"
           ],
           "groupby": [],
           "ops": [
            "mean",
            "stdev"
           ],
           "type": "aggregate"
          },
          {
           "as": "id",
           "type": "identifier"
          }
         ]
        },
        {
         "name": "fieldNames",
         "values": []
        },
        {
         "name": "fieldData",
         "source": "aggrData",
         "transform": [
          {
           "as": [
            "field",
            "value"
           ],
           "fields": [],
           "type": "fold"
          }
         ]
        }
       ],
       "layout": {
        "align": {
         "column": "each",
         "row": "all"
        },
        "padding": {
         "column": 10,
         "row": 0
        }
       },
       "legends": [],
       "marks": [
        {
         "marks": [
          {
           "encode": {
            "update": {
             "fill": {
              "field": "value",
              "scale": "color"
             },
             "height": {
              "band": 1,
              "offset": -1,
              "scale": "combinations"
             },
             "width": {
              "band": 1,
              "offset": -1,
              "scale": "fields"
             },
             "x": {
              "field": "field",
              "scale": "fields"
             },
             "y": {
              "field": "id",
              "scale": "combinations"
             }
            }
           },
           "from": {
            "data": "fieldData"
           },
           "type": "rect"
          },
          {
           "encode": {
            "update": {
             "align": {
              "value": "left"
             },
             "angle": {
              "value": -90
             },
             "baseline": {
              "value": "middle"
             },
             "font": {
              "value": "sans-serif"
             },
             "fontSize": {
              "value": 10
             },
             "text": {
              "field": "field"
             },
             "x": {
              "band": 0.5,
              "field": "field",
              "scale": "fields"
             },
             "y": {
              "offset": -2
             }
            }
           },
           "from": {
            "data": "fieldData"
           },
           "name": "columns",
           "type": "text"
          }
         ],
         "name": "fields",
         "scales": [
          {
           "domain": [],
           "name": "fields",
           "range": {
            "step": {
             "signal": "cellSize"
            }
           },
           "type": "band"
          },
          {
           "domain": {
            "data": "fieldData",
            "field": "value"
           },
           "name": "color",
           "range": {
            "scheme": "blues"
           },
           "type": "linear"
          }
         ],
         "type": "group"
        },
        {
         "axes": [
          {
           "offset": {
            "signal": "length(data('aggrData')) * cellSize + 5"
           },
           "orient": "bottom",
           "scale": "values"
          }
         ],
         "encode": {
          "enter": {
           "width": {
            "signal": "valueWidth"
           }
          }
         },
         "marks": [
          {
           "encode": {
            "enter": {
             "fill": {
              "value": "black"
             },
             "size": {
              "value": 40
             }
            },
            "update": {
             "xc": {
              "field": "mean",
              "scale": "values"
             },
             "yc": {
              "band": 0.5,
              "field": "id",
              "scale": "combinations"
             }
            }
           },
           "from": {
            "data": "aggrData"
           },
           "type": "symbol"
          },
          {
           "encode": {
            "enter": {
             "fill": {
              "value": "black"
             },
             "height": {
              "value": 0.5
             }
            },
            "update": {
             "x": {
              "scale": "values",
              "signal": "datum.mean - datum.stdev"
             },
             "x2": {
              "scale": "values",
              "signal": "datum.mean + datum.stdev"
             },
             "y": {
              "band": 0.5,
              "field": "id",
              "scale": "combinations"
             }
            }
           },
           "from": {
            "data": "aggrData"
           },
           "type": "rect"
          }
         ],
         "name": "values",
         "scales": [
          {
           "domain": [
            0,
            1
           ],
           "name": "values",
           "range": [
            0,
            {
             "signal": "valueWidth"
            }
           ],
           "type": "linear"
          }
         ],
         "type": "group"
        }
       ],
       "projections": [],
       "scales": [
        {
         "domain": {
          "data": "aggrData",
          "field": "id",
          "sort": {
           "field": "mean",
           "op": "mean",
           "order": "descending"
          }
         },
         "name": "combinations",
         "range": {
          "step": {
           "signal": "cellSize"
          }
         },
         "type": "band"
        }
       ],
       "signals": [
        {
         "name": "cellSize",
         "value": 20
        },
        {
         "name": "valueWidth",
         "value": 200
        }
       ]
      },
      "image/png": "[encoded data removed]",
      "text/iclojure-html": [
       "<ul><li class=taglit>#<ul><li class=symbol>unrepl/mime<li class=map>{<ul><li><ul><li class=keyword>:content-type<li class=space> <li class='string'>\"application/vnd.vega.v5+json\"<li class=trail>,</ul><li class=space> <li><ul><li class=keyword>:content<li class=space> <li class=map>{<ul><li><ul><li class=keyword>:legends<li class=space> <li class=vector>[<ul><li class=trail>]</ul><li class=trail>,</ul><li class=space> <li><ul><li class=keyword>:layout<li class=space> <li class=map>{<ul><li><ul><li class=keyword>:align<li class=space> <li class=map>{<ul><li><ul><li class=keyword>:row<li class=space> <li class='string'>\"all\"<li class=trail>,</ul><li class=space> <li><ul><li class=keyword>:column<li class=space> <li class='string'>\"each\"</ul><li class=trail>}</ul><li class=trail>,</ul><li class=space> <li><ul><li class=keyword>:padding<li class=space> <li class=map>{<ul><li><ul><li class=keyword>:row<li class=space> <li class='misc'>0<li class=trail>,</ul><li class=space> <li><ul><li class=keyword>:column<li class=space> <li class='misc'>10</ul><li class=trail>}</ul></ul><li class=trail>}</ul><li class=trail>,</ul><li class=space> <li><ul><li class=keyword>:axes<li class=space> <li class=vector>[<ul><li class=trail>]</ul><li class=trail>,</ul><li class=space> <li><ul><li class=keyword>:scales<li class=space> <li class=vector>[<ul><li class=map>{<ul><li><ul><li class=keyword>:name<li class=space> <li class='string'>\"combinations\"<li class=trail>,</ul><li class=space> <li><ul><li class=keyword>:type<li class=space> <li class='string'>\"band\"<li class=trail>,</ul><li class=space> <li><ul><li class=keyword>:domain<li class=space> <li class=map>{<ul><li><ul><li class=keyword>:data<li class=space> <li class='string'>\"aggrData\"<li class=trail>,</ul><li class=space> <li><ul><li class=keyword>:field<li class=space> <li class=keyword>:id<li class=trail>,</ul><li class=space> <li><ul><li class=keyword>:sort<li class=space> <li class=map>{<ul><li><ul><li class=keyword>:field<li class=space> <li class='string'>\"mean\"<li class=trail>,</ul><li class=space> <li><ul><li class=keyword>:op<li class=space> <li class=keyword>:mean<li class=trail>,</ul><li class=space> <li><ul><li class=keyword>:order<li class=space> <li class=keyword>:descending</ul><li class=trail>}</ul></ul><li class=trail>}</ul><li class=trail>,</ul><li class=space> <li><ul><li class=keyword>:range<li class=space> <li class=map>{<ul><li><ul><li class=keyword>:step<li class=space> <li class=map>{<ul><li><ul><li class=keyword>:signal<li class=space> <li class='string'>\"cellSize\"</ul><li class=trail>}</ul></ul><li class=trail>}</ul></ul><li class=trail>}</ul><li class=trail>]</ul><li class=trail>,</ul><li class=space> <li><ul><li class=keyword>:marks<li class=space> <li class=vector>[<ul><li class=map>{<ul><li><ul><li class=keyword>:type<li class=space> <li class=keyword>:group<li class=trail>,</ul><li class=space> <li><ul><li class=keyword>:name<li class=space> <li class='string'>\"fields\"<li class=trail>,</ul><li class=space> <li><ul><li class=keyword>:scales<li class=space> <li class=vector>[<ul><li class=map>{<ul><li><ul><li class=keyword>:name<li class=space> <li class='string'>\"fields\"<li class=trail>,</ul><li class=space> <li><ul><li class=keyword>:type<li class=space> <li class='string'>\"band\"<li class=trail>,</ul><li class=space> <li><ul><li class=keyword>:domain<li class=space> <li class=seq>(<ul><li class=trail>)</ul><li class=trail>,</ul><li class=space> <li><ul><li class=keyword>:range<li class=space> <li class=map>{<ul><li><ul><li class=keyword>:step<li class=space> <li class=map>{<ul><li class=elision data-expr='(unrepl.repl$p8QhJwTpu2S19yqqZbyXWLOYcI8/fetch :G__2680)'>…<li class=trail>}</ul></ul><li class=trail>}</ul></ul><li class=trail>}</ul><li class=space> <li class=map>{<ul><li><ul><li class=keyword>:name<li class=space> <li class='string'>\"color\"<li class=trail>,</ul><li class=space> <li><ul><li class=keyword>:type<li class=space> <li class='string'>\"linear\"<li class=trail>,</ul><li class=space> <li><ul><li class=keyword>:domain<li class=space> <li class=map>{<ul><li class=elision data-expr='(unrepl.repl$p8QhJwTpu2S19yqqZbyXWLOYcI8/fetch :G__2681)'>…<li class=trail>}</ul><li class=trail>,</ul><li class=space> <li class=elision data-expr='(unrepl.repl$p8QhJwTpu2S19yqqZbyXWLOYcI8/fetch :G__2682)'>…<li class=trail>}</ul><li class=trail>]</ul><li class=trail>,</ul><li class=space> <li class=elision data-expr='(unrepl.repl$p8QhJwTpu2S19yqqZbyXWLOYcI8/fetch :G__2683)'>…<li class=trail>}</ul><li class=space> <li class=elision data-expr='(unrepl.repl$p8QhJwTpu2S19yqqZbyXWLOYcI8/fetch :G__2684)'>…<li class=trail>]</ul><li class=trail>,</ul><li class=space> <li class=elision data-expr='(unrepl.repl$p8QhJwTpu2S19yqqZbyXWLOYcI8/fetch :G__2685)'>…<li class=trail>}</ul></ul><li class=trail>}</ul></ul></ul>"
      ],
      "text/plain": [
       "#unrepl/mime\n",
       "  \u001b[2m{\u001b[22m\u001b[36m:content-type\u001b[m \"application/vnd.vega.v5+json\"\u001b[2m,\u001b[22m\n",
       "   \u001b[36m:content\u001b[m \u001b[2m{\u001b[22m\u001b[36m:legends\u001b[m \u001b[2m[\u001b[22m\u001b[2m]\u001b[22m\u001b[2m,\u001b[22m \u001b[36m:layout\u001b[m \u001b[2m{\u001b[22m\u001b[36m:align\u001b[m \u001b[2m{\u001b[22m\u001b[36m:row\u001b[m \"all\"\u001b[2m,\u001b[22m \u001b[36m:column\u001b[m \"each\"\u001b[2m}\u001b[22m\u001b[2m,\u001b[22m\n",
       "                                   \u001b[36m:padding\u001b[m \u001b[2m{\u001b[22m\u001b[36m:row\u001b[m 0\u001b[2m,\u001b[22m \u001b[36m:column\u001b[m 10\u001b[2m}\u001b[22m\u001b[2m}\u001b[22m\u001b[2m,\u001b[22m\n",
       "             \u001b[36m:axes\u001b[m \u001b[2m[\u001b[22m\u001b[2m]\u001b[22m\u001b[2m,\u001b[22m \u001b[36m:scales\u001b[m \u001b[2m[\u001b[22m\u001b[2m{\u001b[22m\u001b[36m:name\u001b[m \"combinations\"\u001b[2m,\u001b[22m \u001b[36m:type\u001b[m \"band\"\u001b[2m,\u001b[22m\n",
       "                                 \u001b[36m:domain\u001b[m \u001b[2m{\u001b[22m\u001b[36m:data\u001b[m \"aggrData\"\u001b[2m,\u001b[22m \u001b[36m:field\u001b[m \u001b[36m:id\u001b[m\u001b[2m,\u001b[22m\n",
       "                                          \u001b[36m:sort\u001b[m \u001b[2m{\u001b[22m\u001b[36m:field\u001b[m \"mean\"\u001b[2m,\u001b[22m \u001b[36m:op\u001b[m \u001b[36m:mean\u001b[m\u001b[2m,\u001b[22m\n",
       "                                                 \u001b[36m:order\u001b[m \u001b[36m:descending\u001b[m\u001b[2m}\u001b[22m\u001b[2m}\u001b[22m\u001b[2m,\u001b[22m\n",
       "                                 \u001b[36m:range\u001b[m \u001b[2m{\u001b[22m\u001b[36m:step\u001b[m \u001b[2m{\u001b[22m\u001b[36m:signal\u001b[m \"cellSize\"\u001b[2m}\u001b[22m\u001b[2m}\u001b[22m\u001b[2m}\u001b[22m\u001b[2m]\u001b[22m\u001b[2m,\u001b[22m\n",
       "             \u001b[36m:marks\u001b[m \u001b[2m[\u001b[22m\u001b[2m{\u001b[22m\u001b[36m:type\u001b[m \u001b[36m:group\u001b[m\u001b[2m,\u001b[22m \u001b[36m:name\u001b[m \"fields\"\u001b[2m,\u001b[22m\n",
       "                      \u001b[36m:scales\u001b[m \u001b[2m[\u001b[22m\u001b[2m{\u001b[22m\u001b[36m:name\u001b[m \"fields\"\u001b[2m,\u001b[22m \u001b[36m:type\u001b[m \"band\"\u001b[2m,\u001b[22m\n",
       "                                \u001b[36m:domain\u001b[m \u001b[2m(\u001b[22m\u001b[2m)\u001b[22m\u001b[2m,\u001b[22m \u001b[36m:range\u001b[m \u001b[2m{\u001b[22m\u001b[36m:step\u001b[m \u001b[2m{\u001b[22m\u001b[4m/94\u001b[m\u001b[2m}\u001b[22m\u001b[2m}\u001b[22m\u001b[2m}\u001b[22m\n",
       "                               \u001b[2m{\u001b[22m\u001b[36m:name\u001b[m \"color\"\u001b[2m,\u001b[22m \u001b[36m:type\u001b[m \"linear\"\u001b[2m,\u001b[22m\n",
       "                                \u001b[36m:domain\u001b[m \u001b[2m{\u001b[22m\u001b[4m/95\u001b[m\u001b[2m}\u001b[22m\u001b[2m,\u001b[22m \u001b[4m/96\u001b[m\u001b[2m}\u001b[22m\u001b[2m]\u001b[22m\u001b[2m,\u001b[22m\n",
       "                      \u001b[4m/97\u001b[m\u001b[2m}\u001b[22m\n",
       "                     \u001b[4m/98\u001b[m\u001b[2m]\u001b[22m\u001b[2m,\u001b[22m\n",
       "             \u001b[4m/99\u001b[m\u001b[2m}\u001b[22m\u001b[2m}\u001b[22m\n"
      ]
     },
     "execution_count": 48,
     "metadata": {},
     "output_type": "execute_result"
    }
   ],
   "source": [
    "#unrepl/mime {:content-type \"application/vnd.vega.v5+json\"\n",
    "              :content plot}"
   ]
  }
 ],
 "metadata": {
  "kernelspec": {
   "display_name": "IClojure",
   "language": "iclojure",
   "name": "iclojure"
  },
  "language_info": {
   "file_extension": ".clj",
   "mimetype": "text/x-clojure",
   "name": "clojure",
   "version": "1.10.0"
  }
 },
 "nbformat": 4,
 "nbformat_minor": 4
}
