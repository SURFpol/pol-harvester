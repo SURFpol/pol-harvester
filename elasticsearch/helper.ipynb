{
 "cells": [
  {
   "cell_type": "code",
   "execution_count": 1,
   "metadata": {},
   "outputs": [],
   "source": [
    "import json\n",
    "from elasticsearch import Elasticsearch\n",
    "\n",
    "import util\n",
    "\n",
    "ES_CREDENTIALS = 'es-credentials.json'\n",
    "RAW_DATA_FOLDER = 'data/freeze3/output'"
   ]
  },
  {
   "cell_type": "code",
   "execution_count": 2,
   "metadata": {},
   "outputs": [],
   "source": [
    "es_client = util.get_es_client(ES_CREDENTIALS)"
   ]
  },
  {
   "cell_type": "code",
   "execution_count": 9,
   "metadata": {},
   "outputs": [],
   "source": [
    "def get_indices(es_client):\n",
    "    print(es_client.cat.indices(format=\"b\", v=True))"
   ]
  },
  {
   "cell_type": "code",
   "execution_count": 11,
   "metadata": {},
   "outputs": [
    {
     "name": "stdout",
     "output_type": "stream",
     "text": [
      "health status index                   uuid                   pri rep docs.count docs.deleted store.size pri.store.size\n",
      "green  open   haukur-test-bulk-4-nl   vmjsxWTiSYuHVEL62Ftqyg   1   0          0            0       261b           261b\n",
      "green  open   2-analysed-2-not-en     lthgSviXTnmSg1yZrJXc7A   1   1        454            0      6.1mb            3mb\n",
      "green  open   test                    sOkjwZuGTbekR7gMSXqXYA   5   1       1297            0     25.8mb         12.9mb\n",
      "green  open   haukur-test-bulk-5-nl   JHt5Y4wTQRqRgG5rbXkZCw   1   0          0            0       261b           261b\n",
      "green  open   exp01                   xYJmiKQSRZeS_skj8nd7uQ   1   1       1230            0       21mb         10.5mb\n",
      "green  open   haukur-test-shard-1     cB6YuT4OTE6awNbhX4Iygw   1   1       5075            0     34.1mb           17mb\n",
      "green  open   haukur-test-bulk-6-nl   kuO8yFZNT1eRbek_uRLodA   1   0          0            0       261b           261b\n",
      "green  open   2-analysed-2-not-2-en   LTsTSpzcRcqPypH9lMQvWA   1   0        454            0      4.6mb          4.6mb\n",
      "green  open   haukur-test-2-en        RYI2RgDwRsinTC60hsAqrg   1   1        454            0      5.8mb          2.9mb\n",
      "green  open   freeze-2-title-keywords QzU8YtCCSQisddOI8CskGA   5   1       1228            0      1.8mb        960.7kb\n",
      "green  open   haukur-test-bulk-2-nl   6n1iLY9pR8urOb46Tem-oA   1   0          0            0       261b           261b\n",
      "green  open   surfpol                 HpK6gE_JTzKiDZ04TbTDkA   5   1         64            5      2.5mb          1.2mb\n",
      "green  open   freeze3-en              RR20kMOQSdKaiIQSwUEqkw   1   0        777            0      8.1mb          8.1mb\n",
      "green  open   freeze3-nl              EbD4sJ9mREWhM8M4I0jrHA   1   0        793            0     16.4mb         16.4mb\n",
      "green  open   surfpol-test            LXuJWnnrQN66oK7rOObVDw   3   2          0            0      2.2kb           783b\n",
      "green  open   haukur-test-bulk-nl     50zW0OpcRRibruiGD2_VGA   1   0          0            0       261b           261b\n",
      "green  open   2-analysed-2-not-nl     gcA7bUwfSA6KbnyKMUc2AQ   1   1        776            0     15.1mb          7.5mb\n",
      "green  open   haukur-test-2-nl        c0vL_ar6TOCG4a5SeWmlZw   1   1        776            0       15mb          7.5mb\n",
      "green  open   2-analysed-2-not-2-nl   EfsE1KEzRhyM87V8blgrcw   1   0        775            0     12.6mb         12.6mb\n",
      "green  open   freeze-2                Ar8aohYxQpaoDSQOLbRHzQ   5   1       1228            0     22.4mb         11.2mb\n",
      "green  open   first_index             -uWjc3vwRxGwOv95YG2qlQ   1   1          2            0     14.7kb          7.3kb\n",
      "green  open   haukur-test             jrOmb1qDRmu46ZVs0oy6qg   5   1       5075            0     36.7mb         18.3mb\n",
      "green  open   haukur-test-bulk-3-nl   AShg6eVGR1Wiahum5eRS7g   1   0          0            0       261b           261b\n",
      "green  open   freeze-1                zqAnwnaXRaWgXgNaDZ9Jmw   5   1       1147            0     21.5mb         10.7mb\n",
      "\n"
     ]
    }
   ],
   "source": [
    "get_indices(es_client)"
   ]
  },
  {
   "cell_type": "code",
   "execution_count": 12,
   "metadata": {},
   "outputs": [],
   "source": [
    "def see_document(id):\n",
    "    for document in core.read_raw_documents(RAW_DATA_FOLDER):\n",
    "        if document['id'] == id:\n",
    "            print(document)"
   ]
  },
  {
   "cell_type": "code",
   "execution_count": 27,
   "metadata": {},
   "outputs": [
    {
     "name": "stdout",
     "output_type": "stream",
     "text": [
      "{'text': 'Use of consonance and dissonance\\nConsonance is a term that describes the phenomenon of several sounds or pitches blending together, almost as if becoming one, a unity of sound. Dissonance on the other hand, is a term that describes\\xa0tension\\xa0in sound, as if sounds or pitches do not blend together, and remain separate auditive entities. The apperception of whether sounds do or do not blend is highly subjective however, and strongly dependent on musical context, whereas\\xa0tension\\xa0is a more objectively measurable property in sound itself.\\nIn\\xa0functional harmony, that is: harmony employing degrees and thus harmonic functions, the usual order is that of an increase of tension followed by a moment relaxation, so using more and increasing dissonance, to be followed and the tension released by consonance. The consonance is always chosen in relation to the musical context, the dissonants employed are style- and context-related as well. As a general rule however, it is the dissonants which represent the strongest expressional means in harmony.\\n\\n', 'mime_type': 'application/vnd.openxmlformats-officedocument.wordprocessingml.document', 'id': '4a1dd26b16eeae40e8bb5e7aa9be379a0650b2c9', 'url': 'https://surfsharekit.nl/dl/ooo/e4bd9d62-7d0b-4ac2-b933-990199dd2193/6d21a6ea-ebbb-4e42-8c38-5783fa80104a', 'title': 'Use of consonance and dissonance', 'language': 'en', 'arrangement_keywords': ['Consonance', 'Dissonance', 'Basic Music theory'], 'arrangement_collection_name': 'stimuleringsmaatregel'}\n"
     ]
    }
   ],
   "source": [
    "see_document('4a1dd26b16eeae40e8bb5e7aa9be379a0650b2c9')"
   ]
  },
  {
   "cell_type": "code",
   "execution_count": null,
   "metadata": {},
   "outputs": [],
   "source": []
  }
 ],
 "metadata": {
  "kernelspec": {
   "display_name": "Python 3",
   "language": "python",
   "name": "python3"
  },
  "language_info": {
   "codemirror_mode": {
    "name": "ipython",
    "version": 3
   },
   "file_extension": ".py",
   "mimetype": "text/x-python",
   "name": "python",
   "nbconvert_exporter": "python",
   "pygments_lexer": "ipython3",
   "version": "3.7.1"
  }
 },
 "nbformat": 4,
 "nbformat_minor": 2
}
